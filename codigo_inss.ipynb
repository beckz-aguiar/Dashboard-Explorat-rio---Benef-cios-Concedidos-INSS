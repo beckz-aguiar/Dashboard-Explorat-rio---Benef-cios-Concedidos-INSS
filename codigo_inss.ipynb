{
 "cells": [
  {
   "cell_type": "markdown",
   "id": "673e8ecb",
   "metadata": {},
   "source": [
    "## Benefícios Concedidos do INSS"
   ]
  },
  {
   "cell_type": "markdown",
   "id": "fe0f4ed2",
   "metadata": {},
   "source": [
    "### Bibliotecas"
   ]
  },
  {
   "cell_type": "code",
   "execution_count": 1,
   "id": "8b075ea5",
   "metadata": {},
   "outputs": [],
   "source": [
    "# Importando as bibliotecas\n",
    "import pandas as pd\n",
    "from dateutil.relativedelta import relativedelta\n",
    "import glob\n",
    "from pathlib import Path"
   ]
  },
  {
   "cell_type": "markdown",
   "id": "018e30ad",
   "metadata": {},
   "source": [
    "### Bases de Dados"
   ]
  },
  {
   "cell_type": "markdown",
   "id": "124f0aaf",
   "metadata": {},
   "source": [
    "#### Lendo os arquivos das bases que serão utilizadas"
   ]
  },
  {
   "cell_type": "code",
   "execution_count": null,
   "id": "9c2cb1c7",
   "metadata": {},
   "outputs": [
    {
     "name": "stdout",
     "output_type": "stream",
     "text": [
      "Lendo o arquivo: ben_ago_24.xlsx\n",
      "  -> Colunas selecionadas e adicionadas do arquivo: ben_ago_24.xlsx\n",
      "Lendo o arquivo: ben_dez_24.xlsx\n",
      "  -> Colunas selecionadas e adicionadas do arquivo: ben_dez_24.xlsx\n",
      "Lendo o arquivo: ben_fev_25.xlsx\n",
      "  -> Colunas selecionadas e adicionadas do arquivo: ben_fev_25.xlsx\n",
      "Lendo o arquivo: ben_jan_25.xlsx\n",
      "  -> Colunas selecionadas e adicionadas do arquivo: ben_jan_25.xlsx\n",
      "Lendo o arquivo: ben_jul_24.xlsx\n",
      "  -> Colunas selecionadas e adicionadas do arquivo: ben_jul_24.xlsx\n",
      "Lendo o arquivo: ben_jun_24.xlsx\n",
      "  -> Colunas selecionadas e adicionadas do arquivo: ben_jun_24.xlsx\n",
      "Lendo o arquivo: ben_mar_25.xlsx\n",
      "  -> Colunas selecionadas e adicionadas do arquivo: ben_mar_25.xlsx\n",
      "Lendo o arquivo: ben_nov_24.xlsx\n",
      "  -> Colunas selecionadas e adicionadas do arquivo: ben_nov_24.xlsx\n",
      "Lendo o arquivo: ben_out_24.xlsx\n",
      "  -> Colunas selecionadas e adicionadas do arquivo: ben_out_24.xlsx\n",
      "Lendo o arquivo: ben_set_24.xlsx\n",
      "  -> Colunas selecionadas e adicionadas do arquivo: ben_set_24.xlsx\n",
      "Bases concatenadas com sucesso com colunas selecionadas!\n",
      "Colunas na base_completa: ['Competência concessão', 'Espécie_NUM', 'Espécie_NOME', 'CID_NUM_NOME', 'Despacho_NOME', 'Dt Nascimento', 'Sexo.', 'Clientela', 'Mun Resid', 'Vínculo dependentes', 'Forma Filiação', 'UF', 'Qt SM RMI', 'Ramo Atividade', 'Dt DCB', 'Dt DDB', 'Dt DIB', 'País de Acordo Internacional', 'Classificador PA']\n"
     ]
    }
   ],
   "source": [
    "# Caminho para a pasta contendo os arquivos Excel\n",
    "caminho_bases = Path('bases_inss')\n",
    "padrao_arquivos = 'ben_*.xlsx'\n",
    "\n",
    "colunas_desejadas = [\"Competência concessão\", \"Espécie_NUM\", \"Espécie_NOME\", \"CID_NUM_NOME\", \"Despacho_NOME\", \"Dt Nascimento\", \"Sexo.\", \"Clientela\", \"Mun Resid\", \"Vínculo dependentes\", \"Forma Filiação\", \"UF\", \"Qt SM RMI\", \"Ramo Atividade\", \"Dt DCB\", \"Dt DDB\", \"Dt DIB\", \"País de Acordo Internacional\", \"Classificador PA\"]\n",
    "\n",
    "lista_dataframes = []\n",
    "for arquivo_excel in caminho_bases.glob(padrao_arquivos):\n",
    "    print(f\"Lendo o arquivo: {arquivo_excel.name}\")\n",
    "    try:\n",
    "        base_compl1 = pd.read_excel(arquivo_excel)\n",
    "\n",
    "        base_compl2 = base_compl1.reindex(columns=colunas_desejadas)\n",
    "\n",
    "        lista_dataframes.append(base_compl2)\n",
    "        print(f\"  -> Colunas selecionadas e adicionadas do arquivo: {arquivo_excel.name}\")\n",
    "\n",
    "    except Exception as e:\n",
    "        print(f\"Erro ao processar {arquivo_excel.name}: {e}\")\n",
    "\n",
    "if lista_dataframes:\n",
    "    base_completa = pd.concat(lista_dataframes, ignore_index=True)\n",
    "    print(\"Bases concatenadas com sucesso com colunas selecionadas!\")\n",
    "    print(\"Colunas na base_completa:\", base_completa.columns.tolist())\n",
    "else:\n",
    "    print(\"Nenhum arquivo encontrado ou lido com sucesso.\")\n",
    "    base_completa = pd.DataFrame(columns=colunas_desejadas)"
   ]
  },
  {
   "cell_type": "markdown",
   "id": "75ef2ace",
   "metadata": {},
   "source": [
    "#### Tratamento dos dados"
   ]
  },
  {
   "cell_type": "code",
   "execution_count": 3,
   "id": "175502b2",
   "metadata": {},
   "outputs": [],
   "source": [
    "# Transformando a coluna 'Competência concessão' em data\n",
    "base_completa[\"Competência concessão\"] = pd.to_datetime(base_completa[\"Competência concessão\"])"
   ]
  },
  {
   "cell_type": "code",
   "execution_count": 4,
   "id": "0996c1d2",
   "metadata": {},
   "outputs": [],
   "source": [
    "# Selecionando apenas as linhas em que a coluna do CID não é zerada ou sem informação\n",
    "base_inteira = base_completa[(base_completa[\"CID_NUM_NOME\"] != 'Zerados') & (base_completa[\"CID_NUM_NOME\"] != '{ñ class}') & (base_completa[\"CID_NUM_NOME\"] != 'Em Branco')]"
   ]
  },
  {
   "cell_type": "code",
   "execution_count": 5,
   "id": "d0760e04",
   "metadata": {},
   "outputs": [
    {
     "name": "stderr",
     "output_type": "stream",
     "text": [
      "C:\\Users\\beckz\\AppData\\Local\\Temp\\ipykernel_9336\\177539646.py:2: SettingWithCopyWarning: \n",
      "A value is trying to be set on a copy of a slice from a DataFrame.\n",
      "Try using .loc[row_indexer,col_indexer] = value instead\n",
      "\n",
      "See the caveats in the documentation: https://pandas.pydata.org/pandas-docs/stable/user_guide/indexing.html#returning-a-view-versus-a-copy\n",
      "  base_inteira['Forma Filiação'] = base_inteira['Forma Filiação'].replace({'Empresário': 'Autônomo', 'Equiparado a Autônomo': 'Autônomo', 'Trabalhador Avulso': 'Autônomo'})\n"
     ]
    }
   ],
   "source": [
    "# Substituindo os status do beneficiário para facilitar os agrupamentos para futuras análises\n",
    "base_inteira['Forma Filiação'] = base_inteira['Forma Filiação'].replace({'Empresário': 'Autônomo', 'Equiparado a Autônomo': 'Autônomo', 'Trabalhador Avulso': 'Autônomo'})"
   ]
  },
  {
   "cell_type": "code",
   "execution_count": 6,
   "id": "6451c092",
   "metadata": {},
   "outputs": [
    {
     "name": "stderr",
     "output_type": "stream",
     "text": [
      "C:\\Users\\beckz\\AppData\\Local\\Temp\\ipykernel_9336\\3588559325.py:2: SettingWithCopyWarning: \n",
      "A value is trying to be set on a copy of a slice from a DataFrame.\n",
      "Try using .loc[row_indexer,col_indexer] = value instead\n",
      "\n",
      "See the caveats in the documentation: https://pandas.pydata.org/pandas-docs/stable/user_guide/indexing.html#returning-a-view-versus-a-copy\n",
      "  base_inteira['Idade1'] = (base_inteira['Dt DIB'] - base_inteira['Dt Nascimento']).dt.days / 365.25\n",
      "C:\\Users\\beckz\\AppData\\Local\\Temp\\ipykernel_9336\\3588559325.py:5: SettingWithCopyWarning: \n",
      "A value is trying to be set on a copy of a slice from a DataFrame.\n",
      "Try using .loc[row_indexer,col_indexer] = value instead\n",
      "\n",
      "See the caveats in the documentation: https://pandas.pydata.org/pandas-docs/stable/user_guide/indexing.html#returning-a-view-versus-a-copy\n",
      "  base_inteira['Idade'] = base_inteira['Idade1'].round()\n"
     ]
    }
   ],
   "source": [
    "# Calculando a idade dos beneficiários com base na data de início do benefício e a data de nascimento\n",
    "base_inteira['Idade1'] = (base_inteira['Dt DIB'] - base_inteira['Dt Nascimento']).dt.days / 365.25\n",
    "\n",
    "# Arredondando a idade dos beneficiários para números inteiros\n",
    "base_inteira['Idade'] = base_inteira['Idade1'].round()"
   ]
  },
  {
   "cell_type": "code",
   "execution_count": 7,
   "id": "3287b71d",
   "metadata": {},
   "outputs": [],
   "source": [
    "# Excluindo a coluna 'Idade1'\n",
    "base_inteira = base_inteira.drop(columns=['Idade1'])"
   ]
  },
  {
   "cell_type": "code",
   "execution_count": 8,
   "id": "771160e1",
   "metadata": {},
   "outputs": [],
   "source": [
    "# Ajustando as datas zeradas\n",
    "base_inteira['Dt DCB'] = base_inteira['Dt DCB'].replace('00/00/0000', '01/01/1900')\n",
    "base_inteira['Dt DDB'] = base_inteira['Dt DDB'].replace('00/00/0000', '01/01/1900')\n",
    "# Transformando as colunas 'Dt DCB', 'Dt DIB' e 'Dt DDB' em data\n",
    "base_inteira[\"Dt DIB\"] = pd.to_datetime(base_inteira[\"Dt DIB\"])\n",
    "base_inteira['Dt DCB'] = pd.to_datetime(base_inteira['Dt DCB'])\n",
    "base_inteira['Dt DDB'] = pd.to_datetime(base_inteira['Dt DDB'])"
   ]
  },
  {
   "cell_type": "code",
   "execution_count": 9,
   "id": "2d0fd055",
   "metadata": {},
   "outputs": [],
   "source": [
    "# Selecionando apenas as linhas em que as colunas de data não são zeradas ou sem informação\n",
    "base_inteira1 = base_inteira[(base_inteira[\"Dt DCB\"] != '01/01/1900') & (base_inteira[\"Dt DDB\"] != '01/01/1900') & (base_inteira[\"Dt DIB\"] != '01/01/1900')]"
   ]
  },
  {
   "cell_type": "code",
   "execution_count": 10,
   "id": "0142cc1e",
   "metadata": {},
   "outputs": [
    {
     "name": "stderr",
     "output_type": "stream",
     "text": [
      "C:\\Users\\beckz\\AppData\\Local\\Temp\\ipykernel_9336\\1260596745.py:2: SettingWithCopyWarning: \n",
      "A value is trying to be set on a copy of a slice from a DataFrame.\n",
      "Try using .loc[row_indexer,col_indexer] = value instead\n",
      "\n",
      "See the caveats in the documentation: https://pandas.pydata.org/pandas-docs/stable/user_guide/indexing.html#returning-a-view-versus-a-copy\n",
      "  base_inteira1['TEMPO_ESPERA_DESPACHO_DIAS'] = (base_inteira1['Dt DDB'] - base_inteira1['Dt DIB']).dt.days\n",
      "C:\\Users\\beckz\\AppData\\Local\\Temp\\ipykernel_9336\\1260596745.py:3: SettingWithCopyWarning: \n",
      "A value is trying to be set on a copy of a slice from a DataFrame.\n",
      "Try using .loc[row_indexer,col_indexer] = value instead\n",
      "\n",
      "See the caveats in the documentation: https://pandas.pydata.org/pandas-docs/stable/user_guide/indexing.html#returning-a-view-versus-a-copy\n",
      "  base_inteira1['TEMPO_BENEF_DIAS'] = (base_inteira1['Dt DCB'] - base_inteira1['Dt DIB']).dt.days\n"
     ]
    }
   ],
   "source": [
    "# Calculando o tempo de espera para o despacho do benefício e o tempo do benefício\n",
    "base_inteira1['TEMPO_ESPERA_DESPACHO_DIAS'] = (base_inteira1['Dt DDB'] - base_inteira1['Dt DIB']).dt.days\n",
    "base_inteira1['TEMPO_BENEF_DIAS'] = (base_inteira1['Dt DCB'] - base_inteira1['Dt DIB']).dt.days"
   ]
  },
  {
   "cell_type": "code",
   "execution_count": 11,
   "id": "d55fb5ec",
   "metadata": {},
   "outputs": [],
   "source": [
    "# Criando uma função para agrupar os CIDs em categaorias\n",
    "def classificar_cid(codigo):\n",
    "    codigo = str(codigo)\n",
    "    if codigo.startswith('F'):\n",
    "        return 'Transtornos mentais e comportamentais'\n",
    "    elif codigo.startswith('M'):\n",
    "        return 'Doenças osteomusculares'\n",
    "    elif codigo.startswith('I'):\n",
    "        return 'Circulatório'\n",
    "    elif codigo.startswith('A') or codigo.startswith('B'):\n",
    "        return 'Doenças infecciosas e parasitárias'\n",
    "    elif codigo.startswith('C') or codigo.startswith('D'):\n",
    "        return 'Neoplasias (tumores)'\n",
    "    elif codigo.startswith('E'):\n",
    "        return 'Doenças endócrinas, nutricionais e metabólicas'\n",
    "    elif codigo.startswith('G'):\n",
    "        return 'Doenças do sistema nervoso'\n",
    "    elif codigo.startswith('S') or codigo.startswith('T'):\n",
    "        return 'Traumatismos e envenenamentos'\n",
    "    elif codigo.startswith('O'):\n",
    "        return 'Gravidez, parto e puerpério'\n",
    "    else:\n",
    "        return 'Outros'"
   ]
  },
  {
   "cell_type": "code",
   "execution_count": 12,
   "id": "e4d282ad",
   "metadata": {},
   "outputs": [
    {
     "name": "stderr",
     "output_type": "stream",
     "text": [
      "C:\\Users\\beckz\\AppData\\Local\\Temp\\ipykernel_9336\\1945921615.py:2: SettingWithCopyWarning: \n",
      "A value is trying to be set on a copy of a slice from a DataFrame.\n",
      "Try using .loc[row_indexer,col_indexer] = value instead\n",
      "\n",
      "See the caveats in the documentation: https://pandas.pydata.org/pandas-docs/stable/user_guide/indexing.html#returning-a-view-versus-a-copy\n",
      "  base_inteira1['CID_TIPO'] = base_inteira1['CID_NUM_NOME'].apply(classificar_cid)\n"
     ]
    }
   ],
   "source": [
    "# Aplicando a função de classificação de CID na coluna 'CID_NUM_NOME'\n",
    "base_inteira1['CID_TIPO'] = base_inteira1['CID_NUM_NOME'].apply(classificar_cid)"
   ]
  },
  {
   "cell_type": "code",
   "execution_count": 13,
   "id": "9af65a6a",
   "metadata": {},
   "outputs": [
    {
     "name": "stderr",
     "output_type": "stream",
     "text": [
      "C:\\Users\\beckz\\AppData\\Local\\Temp\\ipykernel_9336\\702939730.py:2: SettingWithCopyWarning: \n",
      "A value is trying to be set on a copy of a slice from a DataFrame\n",
      "\n",
      "See the caveats in the documentation: https://pandas.pydata.org/pandas-docs/stable/user_guide/indexing.html#returning-a-view-versus-a-copy\n",
      "  base_inteira1.rename(columns = {'Competência concessão': 'MES', 'Espécie_NOME': 'BENEF_TIPO', 'Despacho_NOME': 'CONCES_TIPO','Dt Nascimento': 'DT_NASCIMENTO','Dt DCB': 'DT_CESSACAO','Dt DDB': 'DT_DESPACHO','Dt DIB': 'DT_INICIO','Sexo.': 'SEXO','Clientela': 'ZONA','Ramo Atividade': 'RAMO','Idade': 'IDADE','Forma Filiação': 'STATUS_BENEFICIARIO','Classificador PA': 'PENSAO_ALIM', 'Vínculo dependentes': 'VINCULO_DEPEND', 'Qt SM RMI': 'QTD_SALARIO_MIN'}, inplace = True)\n"
     ]
    }
   ],
   "source": [
    "# Renomeando as colunas da base para facilitar a leitura\n",
    "base_inteira1.rename(columns = {'Competência concessão': 'MES', 'Espécie_NOME': 'BENEF_TIPO', 'Despacho_NOME': 'CONCES_TIPO','Dt Nascimento': 'DT_NASCIMENTO','Dt DCB': 'DT_CESSACAO','Dt DDB': 'DT_DESPACHO','Dt DIB': 'DT_INICIO','Sexo.': 'SEXO','Clientela': 'ZONA','Ramo Atividade': 'RAMO','Idade': 'IDADE','Forma Filiação': 'STATUS_BENEFICIARIO','Classificador PA': 'PENSAO_ALIM', 'Vínculo dependentes': 'VINCULO_DEPEND', 'Qt SM RMI': 'QTD_SALARIO_MIN'}, inplace = True)"
   ]
  },
  {
   "cell_type": "code",
   "execution_count": 14,
   "id": "7d5e8611",
   "metadata": {},
   "outputs": [],
   "source": [
    "# Selecionando as colunas de interesse para a base final\n",
    "base_completa1 = base_inteira1[['MES','UF','ZONA','BENEF_TIPO','VINCULO_DEPEND','QTD_SALARIO_MIN','CONCES_TIPO','CID_TIPO','DT_INICIO','DT_DESPACHO','DT_CESSACAO','PENSAO_ALIM','TEMPO_BENEF_DIAS','TEMPO_ESPERA_DESPACHO_DIAS','RAMO','SEXO','IDADE','STATUS_BENEFICIARIO']]"
   ]
  },
  {
   "cell_type": "code",
   "execution_count": 15,
   "id": "04a69a89",
   "metadata": {},
   "outputs": [
    {
     "name": "stderr",
     "output_type": "stream",
     "text": [
      "C:\\Users\\beckz\\AppData\\Local\\Temp\\ipykernel_9336\\392798760.py:2: SettingWithCopyWarning: \n",
      "A value is trying to be set on a copy of a slice from a DataFrame.\n",
      "Try using .loc[row_indexer,col_indexer] = value instead\n",
      "\n",
      "See the caveats in the documentation: https://pandas.pydata.org/pandas-docs/stable/user_guide/indexing.html#returning-a-view-versus-a-copy\n",
      "  base_completa1['TEMPO_ESPERA_MAIOR_BENEF'] = (base_completa1['TEMPO_ESPERA_DESPACHO_DIAS'] >= base_completa1['TEMPO_BENEF_DIAS']).astype(int)\n"
     ]
    }
   ],
   "source": [
    "# Criando uma nova coluna indicando se o tempo de espera do despacho é maior que o tempo do benefício\n",
    "base_completa1['TEMPO_ESPERA_MAIOR_BENEF'] = (base_completa1['TEMPO_ESPERA_DESPACHO_DIAS'] >= base_completa1['TEMPO_BENEF_DIAS']).astype(int)"
   ]
  },
  {
   "cell_type": "code",
   "execution_count": 16,
   "id": "3c038a23",
   "metadata": {},
   "outputs": [],
   "source": [
    "# Criando uma função para agrupar o tempo de benefício em categorias\n",
    "def categorizar_tempo(dias):\n",
    "  if dias <= 31:\n",
    "    return 'Até 1 mês'\n",
    "  elif dias <= 90:\n",
    "    return 'Acima de 1 mês a 3 meses'\n",
    "  elif dias <= 180:\n",
    "    return 'Acima de 3 meses a 6 meses'\n",
    "  elif dias <= 365:\n",
    "    return 'Acima de 6 meses a 1 ano'\n",
    "  else:\n",
    "    return 'Mais de 1 ano'"
   ]
  },
  {
   "cell_type": "code",
   "execution_count": 17,
   "id": "8d06c104",
   "metadata": {},
   "outputs": [
    {
     "name": "stderr",
     "output_type": "stream",
     "text": [
      "C:\\Users\\beckz\\AppData\\Local\\Temp\\ipykernel_9336\\1786020827.py:2: SettingWithCopyWarning: \n",
      "A value is trying to be set on a copy of a slice from a DataFrame.\n",
      "Try using .loc[row_indexer,col_indexer] = value instead\n",
      "\n",
      "See the caveats in the documentation: https://pandas.pydata.org/pandas-docs/stable/user_guide/indexing.html#returning-a-view-versus-a-copy\n",
      "  base_completa1['TEMPO_FAIXA_BENEF'] = base_completa1['TEMPO_BENEF_DIAS'].apply(categorizar_tempo)\n"
     ]
    }
   ],
   "source": [
    "# Aplicando a função de categorização de tempo na coluna 'TEMPO_BENEF_DIAS'\n",
    "base_completa1['TEMPO_FAIXA_BENEF'] = base_completa1['TEMPO_BENEF_DIAS'].apply(categorizar_tempo)"
   ]
  },
  {
   "cell_type": "code",
   "execution_count": 18,
   "id": "48ba8519",
   "metadata": {},
   "outputs": [],
   "source": [
    "# Criando uma função para agrupar a quantidade de salário mínimo em categorias\n",
    "def categorizar_salario(salario):\n",
    "  if salario <= 1:\n",
    "    return 'Até 1 SM'\n",
    "  elif salario <= 3:\n",
    "    return 'Entre 1 e 3 SM'\n",
    "  elif salario <= 5:\n",
    "    return 'Entre 3 e 5 SM'\n",
    "  elif salario <= 10:\n",
    "    return 'Entre 5 e 10 SM'\n",
    "  else:\n",
    "    return 'Mais de 10 SM'"
   ]
  },
  {
   "cell_type": "code",
   "execution_count": 19,
   "id": "56c994e3",
   "metadata": {},
   "outputs": [
    {
     "name": "stderr",
     "output_type": "stream",
     "text": [
      "C:\\Users\\beckz\\AppData\\Local\\Temp\\ipykernel_9336\\3598149710.py:2: SettingWithCopyWarning: \n",
      "A value is trying to be set on a copy of a slice from a DataFrame.\n",
      "Try using .loc[row_indexer,col_indexer] = value instead\n",
      "\n",
      "See the caveats in the documentation: https://pandas.pydata.org/pandas-docs/stable/user_guide/indexing.html#returning-a-view-versus-a-copy\n",
      "  base_completa1['QTD_SAL_MIN_FAIXA'] = base_completa1['QTD_SALARIO_MIN'].apply(categorizar_salario)\n"
     ]
    }
   ],
   "source": [
    "# Aplicando a função de categorização por salário mínimo na coluna 'QTD_SALARIO_MIN'\n",
    "base_completa1['QTD_SAL_MIN_FAIXA'] = base_completa1['QTD_SALARIO_MIN'].apply(categorizar_salario)"
   ]
  },
  {
   "cell_type": "code",
   "execution_count": 20,
   "id": "227faf43",
   "metadata": {},
   "outputs": [
    {
     "name": "stderr",
     "output_type": "stream",
     "text": [
      "C:\\Users\\beckz\\AppData\\Local\\Temp\\ipykernel_9336\\3342605966.py:4: SettingWithCopyWarning: \n",
      "A value is trying to be set on a copy of a slice from a DataFrame.\n",
      "Try using .loc[row_indexer,col_indexer] = value instead\n",
      "\n",
      "See the caveats in the documentation: https://pandas.pydata.org/pandas-docs/stable/user_guide/indexing.html#returning-a-view-versus-a-copy\n",
      "  base_completa1['IDADE_FAIXA'] = pd.cut(base_completa1['IDADE'], bins=bins_idade, labels=labels_idade, right=True, include_lowest=True)\n"
     ]
    }
   ],
   "source": [
    "# Categorizando a idade dos beneficiários em faixas etárias\n",
    "bins_idade = [0, 20, 30, 40, 50, 60, 120]\n",
    "labels_idade = ['0-20', '21-30', '31-40', '41-50', '51-60', '61+']\n",
    "base_completa1['IDADE_FAIXA'] = pd.cut(base_completa1['IDADE'], bins=bins_idade, labels=labels_idade, right=True, include_lowest=True)"
   ]
  },
  {
   "cell_type": "code",
   "execution_count": 21,
   "id": "4b651434",
   "metadata": {},
   "outputs": [],
   "source": [
    "# Criando uma função para obter a região do estado\n",
    "def obter_regiao(estado):\n",
    "    estado_str = str(estado)\n",
    "    estado_normalizado = estado_str.strip().lower()\n",
    "    mapa_estados_regioes = {\n",
    "        # Norte\n",
    "        'acre': 'Norte', 'ac': 'Norte',\n",
    "        'amapa': 'Norte', 'amapá': 'Norte', 'ap': 'Norte',\n",
    "        'amazonas': 'Norte', 'am': 'Norte',\n",
    "        'para': 'Norte', 'pará': 'Norte', 'pa': 'Norte',\n",
    "        'rondonia': 'Norte', 'rondônia': 'Norte', 'ro': 'Norte',\n",
    "        'roraima': 'Norte', 'rr': 'Norte',\n",
    "        'tocantins': 'Norte', 'to': 'Norte',\n",
    "        # Nordeste\n",
    "        'alagoas': 'Nordeste', 'al': 'Nordeste',\n",
    "        'bahia': 'Nordeste', 'ba': 'Nordeste',\n",
    "        'ceara': 'Nordeste', 'ceará': 'Nordeste', 'ce': 'Nordeste',\n",
    "        'maranhao': 'Nordeste', 'maranhão': 'Nordeste', 'ma': 'Nordeste',\n",
    "        'paraiba': 'Nordeste', 'paraíba': 'Nordeste', 'pb': 'Nordeste',\n",
    "        'pernambuco': 'Nordeste', 'pe': 'Nordeste',\n",
    "        'piaui': 'Nordeste', 'piauí': 'Nordeste', 'pi': 'Nordeste',\n",
    "        'rio grande do norte': 'Nordeste', 'rn': 'Nordeste',\n",
    "        'sergipe': 'Nordeste', 'se': 'Nordeste',\n",
    "        # Centro-Oeste\n",
    "        'goias': 'Centro-Oeste', 'goiás': 'Centro-Oeste', 'go': 'Centro-Oeste',\n",
    "        'mato grosso': 'Centro-Oeste', 'mt': 'Centro-Oeste',\n",
    "        'mato grosso do sul': 'Centro-Oeste', 'ms': 'Centro-Oeste',\n",
    "        'distrito federal': 'Centro-Oeste', 'df': 'Centro-Oeste',\n",
    "        # Sudeste\n",
    "        'espirito santo': 'Sudeste', 'espírito santo': 'Sudeste', 'es': 'Sudeste',\n",
    "        'minas gerais': 'Sudeste', 'mg': 'Sudeste',\n",
    "        'rio de janeiro': 'Sudeste', 'rj': 'Sudeste',\n",
    "        'sao paulo': 'Sudeste', 'são paulo': 'Sudeste', 'sp': 'Sudeste',\n",
    "        # Sul\n",
    "        'parana': 'Sul', 'paraná': 'Sul', 'pr': 'Sul',\n",
    "        'rio grande do sul': 'Sul', 'rs': 'Sul',\n",
    "        'santa catarina': 'Sul', 'sc': 'Sul',\n",
    "    }\n",
    "\n",
    "    return mapa_estados_regioes.get(estado_normalizado, 'Região não encontrada')"
   ]
  },
  {
   "cell_type": "code",
   "execution_count": 22,
   "id": "0ccecb5e",
   "metadata": {},
   "outputs": [],
   "source": [
    "# Retirando a linha com preenchimento errado das colunas\n",
    "base_completa2 = base_completa1[(base_completa1[\"UF\"] != '81')]"
   ]
  },
  {
   "cell_type": "code",
   "execution_count": 23,
   "id": "286873dd",
   "metadata": {},
   "outputs": [],
   "source": [
    "# Aplicando afunção para obter a região do estado na coluna 'REGIAO_PAIS'\n",
    "base_completa2['REGIAO_PAIS'] = base_completa2['UF'].apply(obter_regiao)"
   ]
  },
  {
   "cell_type": "code",
   "execution_count": 24,
   "id": "8a816e0d",
   "metadata": {},
   "outputs": [],
   "source": [
    "# Criando uma função para obter a população por região (ref: jul/2024)\n",
    "def categorizar_populacao(regiao):\n",
    "  if regiao == 'Norte':\n",
    "    return 18669345\n",
    "  elif regiao == 'Nordeste':\n",
    "    return 57112096\n",
    "  elif regiao == 'Centro-Oeste':\n",
    "    return 17071595\n",
    "  elif regiao == 'Sudeste':\n",
    "    return 88617693\n",
    "  elif regiao == 'Sul':\n",
    "    return 31113021\n",
    "  else:\n",
    "    return '0'"
   ]
  },
  {
   "cell_type": "code",
   "execution_count": 32,
   "id": "2ac43df5",
   "metadata": {},
   "outputs": [
    {
     "name": "stderr",
     "output_type": "stream",
     "text": [
      "C:\\Users\\beckz\\AppData\\Local\\Temp\\ipykernel_9336\\4058857393.py:2: FutureWarning: The default of observed=False is deprecated and will be changed to True in a future version of pandas. Pass observed=False to retain current behavior or observed=True to adopt the future default and silence this warning.\n",
      "  base_tratada = base_completa2.groupby(['MES','REGIAO_PAIS','CID_TIPO','SEXO','BENEF_TIPO','STATUS_BENEFICIARIO','IDADE_FAIXA'])['UF'].count().reset_index(name='QTD_BENEFICIOS')\n"
     ]
    }
   ],
   "source": [
    "# Agrupando a base através das colunas categorizadas\n",
    "base_tratada = base_completa2.groupby(['MES','REGIAO_PAIS','CID_TIPO','SEXO','BENEF_TIPO','STATUS_BENEFICIARIO','IDADE_FAIXA'])['UF'].count().reset_index(name='QTD_BENEFICIOS')"
   ]
  },
  {
   "cell_type": "code",
   "execution_count": 33,
   "id": "99faa7a3",
   "metadata": {},
   "outputs": [],
   "source": [
    "# Aplicando afunção para obter a população por região na coluna 'POPULACAO'\n",
    "base_tratada['POPULACAO'] = base_tratada['REGIAO_PAIS'].apply(categorizar_populacao)"
   ]
  },
  {
   "cell_type": "code",
   "execution_count": 34,
   "id": "54fcde4b",
   "metadata": {},
   "outputs": [],
   "source": [
    "# Normalizando os dados através da taxa por habitantes\n",
    "base_tratada['TAXA_BENEFICIOS'] = (base_tratada['QTD_BENEFICIOS'] / base_tratada['POPULACAO']) * 100000"
   ]
  },
  {
   "cell_type": "markdown",
   "id": "be2f1fe2",
   "metadata": {},
   "source": [
    "### Salvando a Base Final"
   ]
  },
  {
   "cell_type": "code",
   "execution_count": 35,
   "id": "246ee47a",
   "metadata": {},
   "outputs": [],
   "source": [
    "# Salvando a base tratada em um arquivo CSV\n",
    "base_tratada.to_csv('output/base_final.csv', index=False)"
   ]
  }
 ],
 "metadata": {
  "kernelspec": {
   "display_name": "Python 3",
   "language": "python",
   "name": "python3"
  },
  "language_info": {
   "codemirror_mode": {
    "name": "ipython",
    "version": 3
   },
   "file_extension": ".py",
   "mimetype": "text/x-python",
   "name": "python",
   "nbconvert_exporter": "python",
   "pygments_lexer": "ipython3",
   "version": "3.11.9"
  }
 },
 "nbformat": 4,
 "nbformat_minor": 5
}
